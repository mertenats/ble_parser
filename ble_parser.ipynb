{
 "cells": [
  {
   "cell_type": "markdown",
   "metadata": {},
   "source": [
    "# Bluetooth Low Energy\n",
    "\n",
    "## Requirements\n",
    "- adb\n",
    "- pyshark / tshark\n",
    "\n",
    "## 1. Data acquisition\n",
    "### Android HCI logs\n",
    "Retrieve HCI logs from an Android device with `adb`:"
   ]
  },
  {
   "cell_type": "code",
   "execution_count": null,
   "metadata": {},
   "outputs": [],
   "source": [
    "import subprocess\n",
    "import datetime\n",
    "\n",
    "# possible locations and names of the HCI logs file\n",
    "btsnoop_hci_log_files = [\n",
    "    {\n",
    "        'path': '/sdcard/',\n",
    "        'file_name': 'btsnoop_hci.log'\n",
    "    },\n",
    "    {\n",
    "        'path': '/sdcard/Android/data/',\n",
    "        'file_name': 'btsnoop_hci.log'\n",
    "    }\n",
    "]\n",
    "\n",
    "btsnoop_hci_dst_folder = 'hci_logs/'\n",
    "btsnoop_hci_dst_last_file_name = 'hci_log_last.pcap'\n",
    "btsnoop_hci_dst_file_name = 'hci_log.pcap'\n",
    "\n",
    "for btsnoop_hci_log_file in btsnoop_hci_log_files:\n",
    "    try:\n",
    "        cmd = 'adb pull ' + btsnoop_hci_log_file['path'] + btsnoop_hci_log_file['file_name']  +  ' ' + btsnoop_hci_dst_folder\n",
    "        subprocess.check_output(cmd, stderr=subprocess.STDOUT, shell=True)\n",
    "        print('Found: ' + btsnoop_hci_path)\n",
    "        cmd = 'mv ' + btsnoop_hci_dst_folder + btsnoop_hci_log_file[\"file_name\"] + ' ' + btsnoop_hci_dst_folder + btsnoop_hci_dst_file_name\n",
    "        subprocess.check_output(cmd, stderr=subprocess.STDOUT, shell=True)\n",
    "        print('Moved to: ' + btsnoop_hci_dst_folder + btsnoop_hci_dst_last_file_name)\n",
    "        d = datetime.datetime.today().strftime('%Y%m%d_%H%M')\n",
    "        cmd = 'cp ' + btsnoop_hci_dst_folder + btsnoop_hci_dst_last_file_name + ' ' + btsnoop_hci_dst_folder + d + '_' + btsnoop_hci_dst_file_name\n",
    "        subprocess.check_output(cmd, stderr=subprocess.STDOUT, shell=True)\n",
    "        print('Backed up as: ' + btsnoop_hci_dst_folder + d + '_' + btsnoop_hci_dst_file_name)\n",
    "        break\n",
    "    except subprocess.CalledProcessError:\n",
    "        print('Not found: ' + btsnoop_hci_log_file['path'] + btsnoop_hci_log_file['file_name'])\n",
    "        pass"
   ]
  },
  {
   "cell_type": "markdown",
   "metadata": {},
   "source": [
    "### Live capture with Sniffle\n",
    "Identify the target  with `hcitool lescan`"
   ]
  },
  {
   "cell_type": "code",
   "execution_count": null,
   "metadata": {},
   "outputs": [],
   "source": [
    "try:\n",
    "    cmd = 'sudo hcitool lescan'\n",
    "    subprocess.check_output(cmd, stderr=subprocess.STDOUT, shell=True)\n",
    "    except subprocess.CalledProcessError:"
   ]
  },
  {
   "cell_type": "markdown",
   "metadata": {},
   "source": [
    "### Load an existing capture\n"
   ]
  },
  {
   "cell_type": "code",
   "execution_count": null,
   "metadata": {},
   "outputs": [],
   "source": []
  },
  {
   "cell_type": "markdown",
   "metadata": {},
   "source": [
    "## 2. Data pre-processing\n",
    "\n",
    "Parse all BLE packets and store only the following BLE ATT packets:\n",
    "- Read Response\n",
    "- Write Request\n",
    "- Write Command\n",
    "- Value Notification\n",
    "- Value Indication"
   ]
  },
  {
   "cell_type": "code",
   "execution_count": null,
   "metadata": {},
   "outputs": [],
   "source": [
    "#!/usr/bin/env python3\n",
    "\n",
    "import pyshark\n",
    "import binascii\n",
    "\n",
    "file_name = 'hci_logs/hci_log_last.pcap'\n",
    "\n",
    "opcodes = {\n",
    "    0x0b: 'Read Response',\n",
    "    0x12: 'Write Request',\n",
    "    0x52: 'Write Command',\n",
    "    0x1b: 'Value Notification',\n",
    "    0x1d: 'Value Indication'\n",
    "}\n",
    "\n",
    "att_packets=[]\n",
    "\n",
    "def parse_packet(packet):\n",
    "    if 'BTATT' in str(packet.layers):\n",
    "        try:\n",
    "            att_packet = {}\n",
    "            att_packet['opcode'] = opcodes.get(int(packet['BTATT'].opcode, 16), 'Unknown')\n",
    "            att_packet['handle'] = int(packet['BTATT'].handle, 16)\n",
    "            att_packet['data'] = str(packet['BTATT'].value).replace(':', '')\n",
    "            #att_packet['data'] = binascii.hexlify(str(packet['BTATT'].value).replace(':', ''))\n",
    "            #att_packet['data_len'] = len(att_packet['data'])\n",
    "            att_packets.append(att_packet)\n",
    "        except AttributeError:\n",
    "            #print('AttributeError')\n",
    "            return\n",
    "        \n",
    "try:\n",
    "    capture = pyshark.FileCapture(file_name)\n",
    "    await capture.packets_from_tshark(parse_packet)\n",
    "\n",
    "except FileNotFoundError:\n",
    "    print('File not found: ' + file_name)\n",
    "\n",
    "if len(att_packets) == 0:\n",
    "    print('No ATT packets found')\n",
    "else:\n",
    "    print('Found: %d ATT packets' % len(att_packets))\n",
    "    %store att_packets"
   ]
  },
  {
   "cell_type": "code",
   "execution_count": null,
   "metadata": {},
   "outputs": [],
   "source": [
    "#!/usr/bin/env python3\n",
    "\n",
    "from scapy.all import *\n",
    "import binascii\n",
    "\n",
    "file_name = 'hci_logs/20200220_1354_hci_log.pcap'\n",
    "\n",
    "att_packets = []\n",
    "\n",
    "def parse_packet(packet):\n",
    "    packet = BTLE(packet.load)\n",
    "    \n",
    "    if packet.haslayer(ATT_Hdr):\n",
    "        att_packet = {}\n",
    "        if packet.haslayer(ATT_Write_Request): \n",
    "            att_packet['opcode'] = 'Write Request'\n",
    "            att_packet['gatt_handle'] = packet.getlayer(ATT_Write_Request).gatt_handle\n",
    "            att_packet['data'] = binascii.hexlify(packet.getlayer(ATT_Write_Request).data)\n",
    "            att_packets.append(att_packet)\n",
    "        elif packet.haslayer(ATT_Write_Command): \n",
    "            att_packet['opcode'] = 'Write Command'\n",
    "            att_packet['gatt_handle'] = packet.getlayer(ATT_Write_Command).gatt_handle\n",
    "            att_packet['data'] = binascii.hexlify(packet.getlayer(ATT_Write_Command).data)\n",
    "            att_packets.append(att_packet)\n",
    "        elif packet.haslayer(ATT_Handle_Value_Indication): \n",
    "            att_packet['opcode'] = 'Value Indication'\n",
    "            att_packet['gatt_handle'] = packet.getlayer(ATT_Handle_Value_Indication).gatt_handle\n",
    "            att_packet['data'] = binascii.hexlify(packet.getlayer(ATT_Handle_Value_Indication).value)\n",
    "            att_packets.append(att_packet)\n",
    "        elif packet.haslayer(ATT_Handle_Value_Notification): \n",
    "            att_packet['opcode'] = 'Value Notification'\n",
    "            att_packet['gatt_handle'] = packet.getlayer(ATT_Handle_Value_Notification).gatt_handle\n",
    "            att_packet['data'] = binascii.hexlify(packet.getlayer(ATT_Handle_Value_Notification).value)\n",
    "            att_packets.append(att_packet)\n",
    "        elif packet.haslayer(ATT_Read_Request): \n",
    "            print(packet.show())\n",
    "        \n",
    "\n",
    "with PcapReader(file_name) as pcap_reader:\n",
    "    for packet in pcap_reader:\n",
    "        parse_packet(packet)\n",
    "        #parse_packet(BTLE(packet.load))\n",
    "\n",
    "%store att_packets"
   ]
  },
  {
   "cell_type": "markdown",
   "metadata": {},
   "source": [
    "## 3. Data analysis"
   ]
  },
  {
   "cell_type": "code",
   "execution_count": null,
   "metadata": {},
   "outputs": [],
   "source": []
  },
  {
   "cell_type": "code",
   "execution_count": null,
   "metadata": {},
   "outputs": [],
   "source": [
    "import pandas as pd\n",
    "\n",
    "df = pd.DataFrame(att_packets)\n",
    "df = df[['opcode', 'handle', 'data']]\n",
    "df.style.set_properties(**{'text-align': 'left'})\n"
   ]
  },
  {
   "cell_type": "markdown",
   "metadata": {},
   "source": [
    "### Display all packets\n",
    "Display data sent from the device in `white`, to the device in `black`:"
   ]
  },
  {
   "cell_type": "code",
   "execution_count": null,
   "metadata": {},
   "outputs": [],
   "source": [
    "def highlight_by_handle(row):\n",
    "    if row.opcode == 'Write Request' or row.opcode == 'Write Command':\n",
    "        return ['text-align: left; background-color: black; color: white']*3\n",
    "    else:\n",
    "        return ['text-align: left']*3\n",
    "\n",
    "df.style.apply(highlight_by_handle, axis=1)"
   ]
  },
  {
   "cell_type": "markdown",
   "metadata": {},
   "source": [
    "### Sort packets by handle"
   ]
  },
  {
   "cell_type": "code",
   "execution_count": null,
   "metadata": {},
   "outputs": [],
   "source": [
    "df = df.sort_values(by=['handle'])\n",
    "\n",
    "# get unique handles\n",
    "handles = df.handle.unique()\n",
    "    \n",
    "# sort handles \n",
    "for handle in handles:\n",
    "    sub_df = df.loc[df['handle'] == handle]\n",
    "    sub_df = sub_df.sort_index() \n",
    "    sub_df = sub_df.style.apply(highlight_by_handle, axis=1)\n",
    "    #sub_df = sub_df.style.set_properties(**{'text-align': 'left'})\n",
    "    display(sub_df)"
   ]
  },
  {
   "cell_type": "raw",
   "metadata": {},
   "source": [
    "from scapy.all import *\n",
    "import binascii\n",
    "\n",
    "file_name = 'adv_packet.pcap'\n",
    "\n",
    "def parse_packet(packet):\n",
    "    if packet.haslayer(BTLE_PPI):\n",
    "        btle_packet = BTLE(packet.load)\n",
    "        print(packet.getlayer(BTLE_PPI).btle_channel)\n",
    "        if packet.haslayer(BTLE_ADV_IND):\n",
    "            if packet.haslayer(EIR_Manufacturer_Specific_Data):\n",
    "                print(packet.getlayer(BTLE_ADV_IND).AdvA)\n",
    "                print(binascii.hexlify(packet.getlayer(EIR_Manufacturer_Specific_Data).load))\n",
    "\n",
    "            #print(packet.getlayer(BTLE_ADV_IND).data)\n",
    "            #print(packet.show())\n",
    "        else:\n",
    "            print('hello')\n",
    "    \n",
    "with PcapReader(file_name) as pcap_reader:\n",
    "    for packet in pcap_reader:\n",
    "        parse_packet(packet)\n",
    "        #print(packet.show())\n",
    "        #parse_packet(BTLE(packet.load))"
   ]
  },
  {
   "cell_type": "markdown",
   "metadata": {},
   "source": [
    "### Sort packets by opcode"
   ]
  },
  {
   "cell_type": "code",
   "execution_count": null,
   "metadata": {},
   "outputs": [],
   "source": [
    "df = df.sort_values(by=['opcode'])\n",
    "\n",
    "# get unique opcode\n",
    "opcodes = df.opcode.unique()\n",
    "    \n",
    "# sort opcodes \n",
    "for opcode in opcodes:\n",
    "    sub_df = df.loc[df['opcode'] == opcode]\n",
    "    sub_df = sub_df.sort_index()\n",
    "    sub_df = sub_df.style.apply(highlight_by_handle, axis=1)\n",
    "    #sub_df = sub_df.style.set_properties(**{'text-align': 'left'})\n",
    "    display(sub_df)"
   ]
  }
 ],
 "metadata": {
  "kernelspec": {
   "display_name": "Python 3",
   "language": "python",
   "name": "python3"
  },
  "language_info": {
   "codemirror_mode": {
    "name": "ipython",
    "version": 3
   },
   "file_extension": ".py",
   "mimetype": "text/x-python",
   "name": "python",
   "nbconvert_exporter": "python",
   "pygments_lexer": "ipython3",
   "version": "3.6.9"
  }
 },
 "nbformat": 4,
 "nbformat_minor": 4
}
